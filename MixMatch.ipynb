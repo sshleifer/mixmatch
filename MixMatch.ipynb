{
 "cells": [
  {
   "cell_type": "code",
   "execution_count": 44,
   "metadata": {
    "ExecuteTime": {
     "end_time": "2019-05-17T19:12:19.641314Z",
     "start_time": "2019-05-17T19:12:19.587519Z"
    }
   },
   "outputs": [
    {
     "name": "stdout",
     "output_type": "stream",
     "text": [
      "The autoreload extension is already loaded. To reload it, use:\n",
      "  %reload_ext autoreload\n"
     ]
    }
   ],
   "source": [
    "%load_ext autoreload\n",
    "%autoreload 2\n",
    "%matplotlib inline\n",
    "\n",
    "import matplotlib.pyplot as plt\n",
    "from torch.utils.data import Dataset, DataLoader\n",
    "import numpy as np\n",
    "from tqdm import *\n",
    "import torch\n",
    "from torch import nn\n",
    "import torch.nn.functional as F\n",
    "import pandas as pd\n",
    "to_arr = lambda x: x.detach().numpy()\n",
    "import pickle\n",
    "def pickle_save(obj, path):\n",
    "    with open(path, 'wb') as f:\n",
    "        pickle.dump(obj, f)\n",
    "def pickle_load(path):\n",
    "    with open(path, 'rb') as f:\n",
    "        return pickle.load(f, encoding='latin1')"
   ]
  },
  {
   "cell_type": "markdown",
   "metadata": {
    "ExecuteTime": {
     "end_time": "2019-05-14T00:31:19.431101Z",
     "start_time": "2019-05-14T00:30:50.914388Z"
    }
   },
   "source": [
    "to get the CIFAR data run\n",
    "```\n",
    "wget http://www.cs.toronto.edu/~kriz/cifar-10-python.tar.gz\n",
    "tar -xzvf cifar-10-python.tar.gz\n",
    "rm cifar-10-python.tar.gz \n",
    "```"
   ]
  },
  {
   "cell_type": "code",
   "execution_count": 4,
   "metadata": {
    "ExecuteTime": {
     "end_time": "2019-05-14T00:31:21.823905Z",
     "start_time": "2019-05-14T00:31:21.556136Z"
    }
   },
   "outputs": [],
   "source": [
    "%%script False  # uncomment this to use all data\n",
    "from cifar_utils import get_CIFAR10_data\n",
    "data = get_CIFAR10_data(num_training=100, num_validation=200)\n",
    "for k, v in data.items():\n",
    "  print('%s: ' % k, v.shape)\n",
    "X_labeled = data['X_train']\n",
    "y_labeled = pd.get_dummies(data['y_train']).values\n",
    "X_unlabeled = data['X_val']\n",
    "pickle_save((X_labeled, y_labeled, X_unlabeled), 'cifar_subset.pkl')"
   ]
  },
  {
   "cell_type": "code",
   "execution_count": 2,
   "metadata": {
    "ExecuteTime": {
     "end_time": "2019-05-17T19:00:54.326702Z",
     "start_time": "2019-05-17T19:00:54.284782Z"
    }
   },
   "outputs": [],
   "source": [
    "(X_labeled, y_labeled, X_unlabeled) = pickle_load('cifar_subset.pkl')"
   ]
  },
  {
   "cell_type": "code",
   "execution_count": 27,
   "metadata": {
    "ExecuteTime": {
     "end_time": "2019-05-17T19:09:47.063942Z",
     "start_time": "2019-05-17T19:09:47.033368Z"
    }
   },
   "outputs": [],
   "source": [
    "from mixmatch import ArrayDataset, MixupLoader, MixMatchLoss\n",
    "from torch.utils.data import DataLoader"
   ]
  },
  {
   "cell_type": "markdown",
   "metadata": {},
   "source": [
    "### Torch Version"
   ]
  },
  {
   "cell_type": "code",
   "execution_count": 28,
   "metadata": {
    "ExecuteTime": {
     "end_time": "2019-05-17T19:09:51.223115Z",
     "start_time": "2019-05-17T19:09:51.192526Z"
    }
   },
   "outputs": [],
   "source": [
    "from torch import nn\n",
    "class Flatten(nn.Module):\n",
    "    def forward(self, x): return x.view(x.size(0), -1)\n",
    "\n"
   ]
  },
  {
   "cell_type": "code",
   "execution_count": 29,
   "metadata": {
    "ExecuteTime": {
     "end_time": "2019-05-17T19:09:51.412051Z",
     "start_time": "2019-05-17T19:09:51.382108Z"
    }
   },
   "outputs": [],
   "source": [
    "from torch.optim import Adam"
   ]
  },
  {
   "cell_type": "code",
   "execution_count": 66,
   "metadata": {
    "ExecuteTime": {
     "end_time": "2019-05-17T22:35:12.522742Z",
     "start_time": "2019-05-17T22:35:12.490219Z"
    }
   },
   "outputs": [
    {
     "data": {
      "text/plain": [
       "tensor([0.4578, 0.4299, 0.4866, 0.0171, 0.6654, 0.9683, 0.6270, 0.3169, 0.0034,\n",
       "        0.6346])"
      ]
     },
     "execution_count": 66,
     "metadata": {},
     "output_type": "execute_result"
    }
   ],
   "source": [
    "distro = torch.distributions.beta.Beta(.4, .5)\n",
    "distro"
   ]
  },
  {
   "cell_type": "code",
   "execution_count": 69,
   "metadata": {
    "ExecuteTime": {
     "end_time": "2019-05-17T22:36:01.398829Z",
     "start_time": "2019-05-17T22:35:54.676076Z"
    }
   },
   "outputs": [
    {
     "data": {
      "application/vnd.jupyter.widget-view+json": {
       "model_id": "",
       "version_major": 2,
       "version_minor": 0
      },
      "text/plain": [
       "HBox(children=(IntProgress(value=0), HTML(value='')))"
      ]
     },
     "metadata": {},
     "output_type": "display_data"
    },
    {
     "name": "stdout",
     "output_type": "stream",
     "text": [
      "\n"
     ]
    }
   ],
   "source": [
    "#ds = ArrayDataset(X_labeled[:12], y_labeled[:12], X_unlabeled[:12])\n",
    "ds = ArrayDataset(X_labeled, y_labeled, X_unlabeled)\n",
    "BS = 4\n",
    "loader = MixupLoader(ds, batch_size=BS)\n",
    "model = nn.Sequential(\n",
    "    nn.Conv2d(3, 2, 3, stride=1, padding=1),\n",
    "    Flatten(),\n",
    "    nn.Linear(2 * 32 * 32, 10),\n",
    ")\n",
    "loader.model = model\n",
    "optimizer = Adam(model.parameters(),lr=.0001)\n",
    "loss_fn = MixMatchLoss()\n",
    "losses = []\n",
    "for i in tqdm_notebook(range(100)):\n",
    "    for xb,yb in loader:\n",
    "        optimizer.zero_grad()\n",
    "        preds = F.softmax(model.forward(xb), dim=1)\n",
    "        loss = loss_fn(preds, yb, BS//2)\n",
    "        loss.backward()\n",
    "        losses.append(loss.item())\n",
    "        optimizer.step()"
   ]
  },
  {
   "cell_type": "code",
   "execution_count": 71,
   "metadata": {
    "ExecuteTime": {
     "end_time": "2019-05-17T22:36:12.791948Z",
     "start_time": "2019-05-17T22:36:12.626166Z"
    }
   },
   "outputs": [
    {
     "data": {
      "text/plain": [
       "[<matplotlib.lines.Line2D at 0x122753be0>]"
      ]
     },
     "execution_count": 71,
     "metadata": {},
     "output_type": "execute_result"
    },
    {
     "data": {
      "image/png": "[encoded data removed]",
      "text/plain": [
       "<Figure size 432x288 with 1 Axes>"
      ]
     },
     "metadata": {
      "needs_background": "light"
     },
     "output_type": "display_data"
    }
   ],
   "source": [
    "plt.plot(losses)"
   ]
  },
  {
   "cell_type": "code",
   "execution_count": 72,
   "metadata": {
    "ExecuteTime": {
     "end_time": "2019-05-17T22:36:15.993642Z",
     "start_time": "2019-05-17T22:36:15.825573Z"
    }
   },
   "outputs": [
    {
     "data": {
      "text/plain": [
       "<matplotlib.image.AxesImage at 0x1225050b8>"
      ]
     },
     "execution_count": 72,
     "metadata": {},
     "output_type": "execute_result"
    },
    {
     "data": {
      "image/png": "[encoded data removed]",
      "text/plain": [
       "<Figure size 432x288 with 1 Axes>"
      ]
     },
     "metadata": {
      "needs_background": "light"
     },
     "output_type": "display_data"
    }
   ],
   "source": [
    "\n",
    "plt.imshow(xb[-1].detach().numpy()[0])"
   ]
  },
  {
   "cell_type": "code",
   "execution_count": 73,
   "metadata": {
    "ExecuteTime": {
     "end_time": "2019-05-17T22:36:17.004745Z",
     "start_time": "2019-05-17T22:36:16.851789Z"
    }
   },
   "outputs": [
    {
     "data": {
      "text/plain": [
       "Text(0.5, 1.0, 'Sharpened+ Guessed Labels')"
      ]
     },
     "execution_count": 73,
     "metadata": {},
     "output_type": "execute_result"
    },
    {
     "data": {
      "image/png": "[encoded data removed]",
      "text/plain": [
       "<Figure size 432x288 with 1 Axes>"
      ]
     },
     "metadata": {
      "needs_background": "light"
     },
     "output_type": "display_data"
    }
   ],
   "source": [
    "plt.plot(yb[-1].detach().numpy())\n",
    "plt.title('Sharpened+ Guessed Labels')"
   ]
  }
 ],
 "metadata": {
  "kernelspec": {
   "display_name": "Python 3",
   "language": "python",
   "name": "python3"
  },
  "language_info": {
   "codemirror_mode": {
    "name": "ipython",
    "version": 3
   },
   "file_extension": ".py",
   "mimetype": "text/x-python",
   "name": "python",
   "nbconvert_exporter": "python",
   "pygments_lexer": "ipython3",
   "version": "3.7.3"
  }
 },
 "nbformat": 4,
 "nbformat_minor": 2
}
